{
  "nbformat": 4,
  "nbformat_minor": 0,
  "metadata": {
    "colab": {
      "provenance": []
    },
    "kernelspec": {
      "name": "python3",
      "display_name": "Python 3"
    },
    "language_info": {
      "name": "python"
    }
  },
  "cells": [
    {
      "cell_type": "code",
      "execution_count": 58,
      "metadata": {
        "id": "smLurFu5RfFz"
      },
      "outputs": [],
      "source": [
        "import numpy as np\n",
        "from keras.datasets import fashion_mnist\n",
        "from keras.utils import to_categorical\n",
        "from keras import models\n",
        "from keras import layers\n",
        "\n",
        "(X_train, y_train), (X_test, y_test) = fashion_mnist.load_data()\n",
        "\n",
        "X_train = X_train.reshape(60000, 28 * 28)\n",
        "X_train = X_train.astype('float32') / 255\n",
        "X_test = X_test.reshape(10000, 28 * 28)\n",
        "X_test = X_test.astype('float32') / 255\n",
        "\n",
        "y_train = to_categorical(y_train, num_classes=10)\n",
        "y_test = to_categorical(y_test, num_classes=10)\n",
        "\n",
        "model = models.Sequential()\n",
        "model.add(layers.Dense(512, activation='relu', input_shape=(28 * 28,)))\n",
        "model.add(layers.Dense(256, activation='relu'))\n",
        "model.add(layers.Dense(128, activation='relu'))\n",
        "model.add(layers.Dense(64, activation='relu'))\n",
        "\n",
        "model.add(layers.Dense(10, activation='softmax'))\n",
        "\n"
      ]
    },
    {
      "cell_type": "code",
      "source": [
        "model.compile(optimizer='adam',loss='categorical_crossentropy',metrics=['accuracy'])\n",
        "\n",
        "history = model.fit(X_train,\n",
        "                    y_train,\n",
        "                    epochs=50,\n",
        "                    batch_size=100,\n",
        "                    validation_data=(X_test, y_test))"
      ],
      "metadata": {
        "colab": {
          "base_uri": "https://localhost:8080/"
        },
        "collapsed": true,
        "id": "n5j4vViJTQT4",
        "outputId": "aa0f5200-3b03-4d72-ebe4-c8cc6f40942a"
      },
      "execution_count": 11,
      "outputs": [
        {
          "output_type": "stream",
          "name": "stdout",
          "text": [
            "Epoch 1/50\n",
            "\u001b[1m600/600\u001b[0m \u001b[32m━━━━━━━━━━━━━━━━━━━━\u001b[0m\u001b[37m\u001b[0m \u001b[1m9s\u001b[0m 13ms/step - accuracy: 0.8591 - loss: 0.3843 - val_accuracy: 0.8656 - val_loss: 0.3636\n",
            "Epoch 2/50\n",
            "\u001b[1m600/600\u001b[0m \u001b[32m━━━━━━━━━━━━━━━━━━━━\u001b[0m\u001b[37m\u001b[0m \u001b[1m10s\u001b[0m 12ms/step - accuracy: 0.8799 - loss: 0.3241 - val_accuracy: 0.8740 - val_loss: 0.3537\n",
            "Epoch 3/50\n",
            "\u001b[1m600/600\u001b[0m \u001b[32m━━━━━━━━━━━━━━━━━━━━\u001b[0m\u001b[37m\u001b[0m \u001b[1m9s\u001b[0m 15ms/step - accuracy: 0.8899 - loss: 0.2947 - val_accuracy: 0.8619 - val_loss: 0.3753\n",
            "Epoch 4/50\n",
            "\u001b[1m600/600\u001b[0m \u001b[32m━━━━━━━━━━━━━━━━━━━━\u001b[0m\u001b[37m\u001b[0m \u001b[1m7s\u001b[0m 12ms/step - accuracy: 0.8950 - loss: 0.2800 - val_accuracy: 0.8801 - val_loss: 0.3339\n",
            "Epoch 5/50\n",
            "\u001b[1m600/600\u001b[0m \u001b[32m━━━━━━━━━━━━━━━━━━━━\u001b[0m\u001b[37m\u001b[0m \u001b[1m11s\u001b[0m 13ms/step - accuracy: 0.9004 - loss: 0.2651 - val_accuracy: 0.8777 - val_loss: 0.3438\n",
            "Epoch 6/50\n",
            "\u001b[1m600/600\u001b[0m \u001b[32m━━━━━━━━━━━━━━━━━━━━\u001b[0m\u001b[37m\u001b[0m \u001b[1m9s\u001b[0m 15ms/step - accuracy: 0.9032 - loss: 0.2547 - val_accuracy: 0.8716 - val_loss: 0.3524\n",
            "Epoch 7/50\n",
            "\u001b[1m600/600\u001b[0m \u001b[32m━━━━━━━━━━━━━━━━━━━━\u001b[0m\u001b[37m\u001b[0m \u001b[1m9s\u001b[0m 12ms/step - accuracy: 0.9125 - loss: 0.2340 - val_accuracy: 0.8851 - val_loss: 0.3231\n",
            "Epoch 8/50\n",
            "\u001b[1m600/600\u001b[0m \u001b[32m━━━━━━━━━━━━━━━━━━━━\u001b[0m\u001b[37m\u001b[0m \u001b[1m10s\u001b[0m 12ms/step - accuracy: 0.9147 - loss: 0.2234 - val_accuracy: 0.8925 - val_loss: 0.3180\n",
            "Epoch 9/50\n",
            "\u001b[1m600/600\u001b[0m \u001b[32m━━━━━━━━━━━━━━━━━━━━\u001b[0m\u001b[37m\u001b[0m \u001b[1m11s\u001b[0m 13ms/step - accuracy: 0.9166 - loss: 0.2183 - val_accuracy: 0.8853 - val_loss: 0.3268\n",
            "Epoch 10/50\n",
            "\u001b[1m600/600\u001b[0m \u001b[32m━━━━━━━━━━━━━━━━━━━━\u001b[0m\u001b[37m\u001b[0m \u001b[1m9s\u001b[0m 15ms/step - accuracy: 0.9213 - loss: 0.2108 - val_accuracy: 0.8918 - val_loss: 0.3230\n",
            "Epoch 11/50\n",
            "\u001b[1m600/600\u001b[0m \u001b[32m━━━━━━━━━━━━━━━━━━━━\u001b[0m\u001b[37m\u001b[0m \u001b[1m7s\u001b[0m 12ms/step - accuracy: 0.9228 - loss: 0.2019 - val_accuracy: 0.8906 - val_loss: 0.3315\n",
            "Epoch 12/50\n",
            "\u001b[1m600/600\u001b[0m \u001b[32m━━━━━━━━━━━━━━━━━━━━\u001b[0m\u001b[37m\u001b[0m \u001b[1m9s\u001b[0m 15ms/step - accuracy: 0.9253 - loss: 0.1942 - val_accuracy: 0.8901 - val_loss: 0.3404\n",
            "Epoch 13/50\n",
            "\u001b[1m600/600\u001b[0m \u001b[32m━━━━━━━━━━━━━━━━━━━━\u001b[0m\u001b[37m\u001b[0m \u001b[1m7s\u001b[0m 12ms/step - accuracy: 0.9323 - loss: 0.1786 - val_accuracy: 0.8916 - val_loss: 0.3410\n",
            "Epoch 14/50\n",
            "\u001b[1m600/600\u001b[0m \u001b[32m━━━━━━━━━━━━━━━━━━━━\u001b[0m\u001b[37m\u001b[0m \u001b[1m9s\u001b[0m 15ms/step - accuracy: 0.9337 - loss: 0.1706 - val_accuracy: 0.8889 - val_loss: 0.3343\n",
            "Epoch 15/50\n",
            "\u001b[1m600/600\u001b[0m \u001b[32m━━━━━━━━━━━━━━━━━━━━\u001b[0m\u001b[37m\u001b[0m \u001b[1m9s\u001b[0m 14ms/step - accuracy: 0.9358 - loss: 0.1697 - val_accuracy: 0.8802 - val_loss: 0.3890\n",
            "Epoch 16/50\n",
            "\u001b[1m600/600\u001b[0m \u001b[32m━━━━━━━━━━━━━━━━━━━━\u001b[0m\u001b[37m\u001b[0m \u001b[1m9s\u001b[0m 12ms/step - accuracy: 0.9328 - loss: 0.1725 - val_accuracy: 0.8950 - val_loss: 0.3532\n",
            "Epoch 17/50\n",
            "\u001b[1m600/600\u001b[0m \u001b[32m━━━━━━━━━━━━━━━━━━━━\u001b[0m\u001b[37m\u001b[0m \u001b[1m11s\u001b[0m 13ms/step - accuracy: 0.9369 - loss: 0.1615 - val_accuracy: 0.8926 - val_loss: 0.3576\n",
            "Epoch 18/50\n",
            "\u001b[1m600/600\u001b[0m \u001b[32m━━━━━━━━━━━━━━━━━━━━\u001b[0m\u001b[37m\u001b[0m \u001b[1m9s\u001b[0m 15ms/step - accuracy: 0.9412 - loss: 0.1527 - val_accuracy: 0.8948 - val_loss: 0.3579\n",
            "Epoch 19/50\n",
            "\u001b[1m600/600\u001b[0m \u001b[32m━━━━━━━━━━━━━━━━━━━━\u001b[0m\u001b[37m\u001b[0m \u001b[1m7s\u001b[0m 12ms/step - accuracy: 0.9440 - loss: 0.1467 - val_accuracy: 0.8922 - val_loss: 0.3747\n",
            "Epoch 20/50\n",
            "\u001b[1m600/600\u001b[0m \u001b[32m━━━━━━━━━━━━━━━━━━━━\u001b[0m\u001b[37m\u001b[0m \u001b[1m9s\u001b[0m 15ms/step - accuracy: 0.9451 - loss: 0.1399 - val_accuracy: 0.8920 - val_loss: 0.3885\n",
            "Epoch 21/50\n",
            "\u001b[1m600/600\u001b[0m \u001b[32m━━━━━━━━━━━━━━━━━━━━\u001b[0m\u001b[37m\u001b[0m \u001b[1m10s\u001b[0m 14ms/step - accuracy: 0.9497 - loss: 0.1318 - val_accuracy: 0.8939 - val_loss: 0.3520\n",
            "Epoch 22/50\n",
            "\u001b[1m600/600\u001b[0m \u001b[32m━━━━━━━━━━━━━━━━━━━━\u001b[0m\u001b[37m\u001b[0m \u001b[1m8s\u001b[0m 12ms/step - accuracy: 0.9467 - loss: 0.1355 - val_accuracy: 0.8953 - val_loss: 0.4126\n",
            "Epoch 23/50\n",
            "\u001b[1m600/600\u001b[0m \u001b[32m━━━━━━━━━━━━━━━━━━━━\u001b[0m\u001b[37m\u001b[0m \u001b[1m12s\u001b[0m 15ms/step - accuracy: 0.9500 - loss: 0.1303 - val_accuracy: 0.8946 - val_loss: 0.4216\n",
            "Epoch 24/50\n",
            "\u001b[1m600/600\u001b[0m \u001b[32m━━━━━━━━━━━━━━━━━━━━\u001b[0m\u001b[37m\u001b[0m \u001b[1m10s\u001b[0m 15ms/step - accuracy: 0.9515 - loss: 0.1209 - val_accuracy: 0.8963 - val_loss: 0.4214\n",
            "Epoch 25/50\n",
            "\u001b[1m600/600\u001b[0m \u001b[32m━━━━━━━━━━━━━━━━━━━━\u001b[0m\u001b[37m\u001b[0m \u001b[1m9s\u001b[0m 12ms/step - accuracy: 0.9531 - loss: 0.1215 - val_accuracy: 0.9025 - val_loss: 0.4048\n",
            "Epoch 26/50\n",
            "\u001b[1m600/600\u001b[0m \u001b[32m━━━━━━━━━━━━━━━━━━━━\u001b[0m\u001b[37m\u001b[0m \u001b[1m9s\u001b[0m 15ms/step - accuracy: 0.9570 - loss: 0.1105 - val_accuracy: 0.8932 - val_loss: 0.4452\n",
            "Epoch 27/50\n",
            "\u001b[1m600/600\u001b[0m \u001b[32m━━━━━━━━━━━━━━━━━━━━\u001b[0m\u001b[37m\u001b[0m \u001b[1m11s\u001b[0m 15ms/step - accuracy: 0.9562 - loss: 0.1104 - val_accuracy: 0.8929 - val_loss: 0.4267\n",
            "Epoch 28/50\n",
            "\u001b[1m600/600\u001b[0m \u001b[32m━━━━━━━━━━━━━━━━━━━━\u001b[0m\u001b[37m\u001b[0m \u001b[1m8s\u001b[0m 12ms/step - accuracy: 0.9587 - loss: 0.1070 - val_accuracy: 0.8882 - val_loss: 0.4714\n",
            "Epoch 29/50\n",
            "\u001b[1m600/600\u001b[0m \u001b[32m━━━━━━━━━━━━━━━━━━━━\u001b[0m\u001b[37m\u001b[0m \u001b[1m11s\u001b[0m 13ms/step - accuracy: 0.9571 - loss: 0.1071 - val_accuracy: 0.8917 - val_loss: 0.4771\n",
            "Epoch 30/50\n",
            "\u001b[1m600/600\u001b[0m \u001b[32m━━━━━━━━━━━━━━━━━━━━\u001b[0m\u001b[37m\u001b[0m \u001b[1m11s\u001b[0m 15ms/step - accuracy: 0.9586 - loss: 0.1061 - val_accuracy: 0.8989 - val_loss: 0.4631\n",
            "Epoch 31/50\n",
            "\u001b[1m600/600\u001b[0m \u001b[32m━━━━━━━━━━━━━━━━━━━━\u001b[0m\u001b[37m\u001b[0m \u001b[1m8s\u001b[0m 13ms/step - accuracy: 0.9610 - loss: 0.1017 - val_accuracy: 0.8874 - val_loss: 0.5152\n",
            "Epoch 32/50\n",
            "\u001b[1m600/600\u001b[0m \u001b[32m━━━━━━━━━━━━━━━━━━━━\u001b[0m\u001b[37m\u001b[0m \u001b[1m8s\u001b[0m 14ms/step - accuracy: 0.9573 - loss: 0.1080 - val_accuracy: 0.8965 - val_loss: 0.4421\n",
            "Epoch 33/50\n",
            "\u001b[1m600/600\u001b[0m \u001b[32m━━━━━━━━━━━━━━━━━━━━\u001b[0m\u001b[37m\u001b[0m \u001b[1m9s\u001b[0m 15ms/step - accuracy: 0.9659 - loss: 0.0901 - val_accuracy: 0.8934 - val_loss: 0.5360\n",
            "Epoch 34/50\n",
            "\u001b[1m600/600\u001b[0m \u001b[32m━━━━━━━━━━━━━━━━━━━━\u001b[0m\u001b[37m\u001b[0m \u001b[1m9s\u001b[0m 12ms/step - accuracy: 0.9662 - loss: 0.0883 - val_accuracy: 0.8902 - val_loss: 0.5326\n",
            "Epoch 35/50\n",
            "\u001b[1m600/600\u001b[0m \u001b[32m━━━━━━━━━━━━━━━━━━━━\u001b[0m\u001b[37m\u001b[0m \u001b[1m9s\u001b[0m 15ms/step - accuracy: 0.9627 - loss: 0.0954 - val_accuracy: 0.8983 - val_loss: 0.5141\n",
            "Epoch 36/50\n",
            "\u001b[1m600/600\u001b[0m \u001b[32m━━━━━━━━━━━━━━━━━━━━\u001b[0m\u001b[37m\u001b[0m \u001b[1m8s\u001b[0m 14ms/step - accuracy: 0.9666 - loss: 0.0869 - val_accuracy: 0.8956 - val_loss: 0.5107\n",
            "Epoch 37/50\n",
            "\u001b[1m600/600\u001b[0m \u001b[32m━━━━━━━━━━━━━━━━━━━━\u001b[0m\u001b[37m\u001b[0m \u001b[1m8s\u001b[0m 13ms/step - accuracy: 0.9675 - loss: 0.0819 - val_accuracy: 0.8922 - val_loss: 0.5313\n",
            "Epoch 38/50\n",
            "\u001b[1m600/600\u001b[0m \u001b[32m━━━━━━━━━━━━━━━━━━━━\u001b[0m\u001b[37m\u001b[0m \u001b[1m9s\u001b[0m 15ms/step - accuracy: 0.9685 - loss: 0.0793 - val_accuracy: 0.8950 - val_loss: 0.5586\n",
            "Epoch 39/50\n",
            "\u001b[1m600/600\u001b[0m \u001b[32m━━━━━━━━━━━━━━━━━━━━\u001b[0m\u001b[37m\u001b[0m \u001b[1m7s\u001b[0m 12ms/step - accuracy: 0.9670 - loss: 0.0825 - val_accuracy: 0.8902 - val_loss: 0.6351\n",
            "Epoch 40/50\n",
            "\u001b[1m600/600\u001b[0m \u001b[32m━━━━━━━━━━━━━━━━━━━━\u001b[0m\u001b[37m\u001b[0m \u001b[1m9s\u001b[0m 15ms/step - accuracy: 0.9710 - loss: 0.0767 - val_accuracy: 0.8971 - val_loss: 0.5306\n",
            "Epoch 41/50\n",
            "\u001b[1m600/600\u001b[0m \u001b[32m━━━━━━━━━━━━━━━━━━━━\u001b[0m\u001b[37m\u001b[0m \u001b[1m10s\u001b[0m 14ms/step - accuracy: 0.9721 - loss: 0.0721 - val_accuracy: 0.8922 - val_loss: 0.6280\n",
            "Epoch 42/50\n",
            "\u001b[1m600/600\u001b[0m \u001b[32m━━━━━━━━━━━━━━━━━━━━\u001b[0m\u001b[37m\u001b[0m \u001b[1m8s\u001b[0m 13ms/step - accuracy: 0.9700 - loss: 0.0775 - val_accuracy: 0.8987 - val_loss: 0.5733\n",
            "Epoch 43/50\n",
            "\u001b[1m600/600\u001b[0m \u001b[32m━━━━━━━━━━━━━━━━━━━━\u001b[0m\u001b[37m\u001b[0m \u001b[1m12s\u001b[0m 15ms/step - accuracy: 0.9730 - loss: 0.0695 - val_accuracy: 0.8914 - val_loss: 0.6000\n",
            "Epoch 44/50\n",
            "\u001b[1m600/600\u001b[0m \u001b[32m━━━━━━━━━━━━━━━━━━━━\u001b[0m\u001b[37m\u001b[0m \u001b[1m10s\u001b[0m 15ms/step - accuracy: 0.9726 - loss: 0.0664 - val_accuracy: 0.8954 - val_loss: 0.6547\n",
            "Epoch 45/50\n",
            "\u001b[1m600/600\u001b[0m \u001b[32m━━━━━━━━━━━━━━━━━━━━\u001b[0m\u001b[37m\u001b[0m \u001b[1m8s\u001b[0m 12ms/step - accuracy: 0.9747 - loss: 0.0664 - val_accuracy: 0.8931 - val_loss: 0.5764\n",
            "Epoch 46/50\n",
            "\u001b[1m600/600\u001b[0m \u001b[32m━━━━━━━━━━━━━━━━━━━━\u001b[0m\u001b[37m\u001b[0m \u001b[1m9s\u001b[0m 15ms/step - accuracy: 0.9745 - loss: 0.0640 - val_accuracy: 0.8944 - val_loss: 0.6240\n",
            "Epoch 47/50\n",
            "\u001b[1m600/600\u001b[0m \u001b[32m━━━━━━━━━━━━━━━━━━━━\u001b[0m\u001b[37m\u001b[0m \u001b[1m10s\u001b[0m 14ms/step - accuracy: 0.9753 - loss: 0.0653 - val_accuracy: 0.8896 - val_loss: 0.6046\n",
            "Epoch 48/50\n",
            "\u001b[1m600/600\u001b[0m \u001b[32m━━━━━━━━━━━━━━━━━━━━\u001b[0m\u001b[37m\u001b[0m \u001b[1m7s\u001b[0m 12ms/step - accuracy: 0.9748 - loss: 0.0636 - val_accuracy: 0.8955 - val_loss: 0.6452\n",
            "Epoch 49/50\n",
            "\u001b[1m600/600\u001b[0m \u001b[32m━━━━━━━━━━━━━━━━━━━━\u001b[0m\u001b[37m\u001b[0m \u001b[1m9s\u001b[0m 15ms/step - accuracy: 0.9779 - loss: 0.0584 - val_accuracy: 0.8964 - val_loss: 0.6211\n",
            "Epoch 50/50\n",
            "\u001b[1m600/600\u001b[0m \u001b[32m━━━━━━━━━━━━━━━━━━━━\u001b[0m\u001b[37m\u001b[0m \u001b[1m9s\u001b[0m 12ms/step - accuracy: 0.9795 - loss: 0.0562 - val_accuracy: 0.8948 - val_loss: 0.6361\n"
          ]
        }
      ]
    },
    {
      "cell_type": "code",
      "source": [
        "from keras.utils import load_img\n",
        "from keras.utils import img_to_array\n",
        "import numpy as np\n",
        "import matplotlib.pyplot as plt\n",
        "import numpy as np\n",
        "\n",
        "\n",
        "img = load_img('/content/Pullove.jpeg', target_size=(28, 28), color_mode='grayscale')\n",
        "plt.imshow(img, cmap='gray')\n",
        "plt.show()\n",
        "\n",
        "img = img_to_array(img)\n",
        "img = img.reshape(1, 28 * 28)\n",
        "img = img.astype('float32')\n",
        "img = img / 255.0\n",
        "np.argmax(model.predict(img), axis=-1)\n",
        "prediction = model.predict(img)\n",
        "predicted_class_index = np.argmax(prediction, axis=-1)\n",
        "class_labels = ['T-shirt/top', 'Trouser', 'Pullover', 'Dress', 'Coat', 'Sandal', 'Shirt', 'Sneaker', 'Bag', 'Ankle boot']\n",
        "predicted_class_label = class_labels[predicted_class_index[0]]\n",
        "print(f\"Predicted class: {predicted_class_label}\")\n",
        "\n",
        "def predict_image(image_path):\n",
        "    img = load_img(image_path, target_size=(28, 28), color_mode='grayscale')\n",
        "    img = img_to_array(img)\n",
        "    img = img.reshape(1, 28 * 28)\n",
        "    img = img.astype('float32')\n",
        "    img = img / 255.0\n",
        "    prediction = model.predict(img)\n",
        "\n"
      ],
      "metadata": {
        "colab": {
          "base_uri": "https://localhost:8080/",
          "height": 484
        },
        "id": "nuRAqrbmonLA",
        "outputId": "8f6c4e57-7365-401d-9eaa-f7fe235479a7"
      },
      "execution_count": 60,
      "outputs": [
        {
          "output_type": "display_data",
          "data": {
            "text/plain": [
              "<Figure size 640x480 with 1 Axes>"
            ],
            "image/png": "[encoded data removed]"
          },
          "metadata": {}
        },
        {
          "output_type": "stream",
          "name": "stdout",
          "text": [
            "\u001b[1m1/1\u001b[0m \u001b[32m━━━━━━━━━━━━━━━━━━━━\u001b[0m\u001b[37m\u001b[0m \u001b[1m0s\u001b[0m 35ms/step\n",
            "\u001b[1m1/1\u001b[0m \u001b[32m━━━━━━━━━━━━━━━━━━━━\u001b[0m\u001b[37m\u001b[0m \u001b[1m0s\u001b[0m 33ms/step\n",
            "Predicted class: T-shirt/top\n"
          ]
        }
      ]
    }
  ]
}